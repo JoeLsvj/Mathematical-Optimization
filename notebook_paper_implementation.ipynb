{
 "cells": [
  {
   "cell_type": "markdown",
   "metadata": {},
   "source": [
    "# RTOP-LA: Implementation with dummy node\n",
    "Implementation of the model with the same formulation of the paper, using the dummy node."
   ]
  },
  {
   "cell_type": "code",
   "execution_count": 1,
   "metadata": {},
   "outputs": [],
   "source": [
    "# Libraries\n",
    "import numpy as np\n",
    "import gurobipy as gb\n",
    "import matplotlib.pyplot as plt\n",
    "import random\n",
    "import networkx as nx \n",
    "import math\n",
    "import re"
   ]
  },
  {
   "cell_type": "markdown",
   "metadata": {},
   "source": [
    "## Building dummy artificial data"
   ]
  },
  {
   "cell_type": "code",
   "execution_count": 2,
   "metadata": {},
   "outputs": [
    {
     "name": "stdout",
     "output_type": "stream",
     "text": [
      "c1: 1\n",
      "c2: 1\n"
     ]
    }
   ],
   "source": [
    "# Generete road costs\n",
    "# c1: regular truck road cost\n",
    "# c2: highway cost \n",
    "def generate_road_costs():\n",
    "    c1 = random.uniform(100, 135) \n",
    "    c2 = c1 + c1*0.3  \n",
    "    #return round(c1)/100, round(c2)/100\n",
    "    # use the same values of the paper\n",
    "    return 1, 1\n",
    "\n",
    "# Example \n",
    "c1, c2 = generate_road_costs()\n",
    "print(\"c1:\", c1)\n",
    "print(\"c2:\", c2)\n"
   ]
  },
  {
   "cell_type": "code",
   "execution_count": 3,
   "metadata": {},
   "outputs": [
    {
     "name": "stdout",
     "output_type": "stream",
     "text": [
      "[(0, 0), (44, 3), (30, 21), (15, 32), (13, 20), (50, 11), (33, 17), (15, 0), (31, 19), (17, 14), (30, 20), (20, 12)]\n"
     ]
    }
   ],
   "source": [
    "# generate random nodes\n",
    "def generate_random_nodes(num_terminals, num_costumers):\n",
    "    points = []\n",
    "    for _ in range(num_terminals + num_costumers + 1):\n",
    "        x = random.randint(0, 50)  \n",
    "        y = random.randint(0, 50)  \n",
    "        points.append((x, y))\n",
    "    \n",
    "    return points\n",
    "\n",
    "\n",
    "# generate nodes with the same distribution of the paper\n",
    "def generate_nodes_like_paper(num_costumers):\n",
    "    points = []\n",
    "\n",
    "    # The dummy points\n",
    "    x = 0\n",
    "    y = 0\n",
    "    points.append((x,y))\n",
    "\n",
    "    # The original terminal \n",
    "    x = random.randint(30, 50)  \n",
    "    y = random.randint(0, 15) \n",
    "    points.append((x,y))\n",
    "\n",
    "    # The first intermediate terminal\n",
    "    x = random.randint(10, 35)  \n",
    "    y = random.randint(20, 30) \n",
    "    points.append((x,y))\n",
    "\n",
    "    # The second intermediate terminal\n",
    "    x = random.randint(0, 25)  \n",
    "    y = random.randint(30, 45) \n",
    "    points.append((x,y))\n",
    "\n",
    "    # Costumers\n",
    "    for _ in range(num_costumers):\n",
    "        x = random.randint(0, 50)  \n",
    "        y = random.randint(0, 50)  \n",
    "        points.append((x, y))\n",
    "    \n",
    "    return points\n",
    "\n",
    "\n",
    "# Example \n",
    "nodes_like_paper = generate_nodes_like_paper(num_costumers = 8)\n",
    "print(nodes_like_paper)"
   ]
  },
  {
   "cell_type": "code",
   "execution_count": 4,
   "metadata": {},
   "outputs": [
    {
     "name": "stdout",
     "output_type": "stream",
     "text": [
      "[(0, 0), (37, 15), (25, 28), (3, 44), (36, 8), (48, 21), (46, 26), (44, 17), (40, 28)]\n"
     ]
    },
    {
     "data": {
      "image/png": "[encoded data removed]",
      "text/plain": [
       "<Figure size 640x480 with 1 Axes>"
      ]
     },
     "metadata": {},
     "output_type": "display_data"
    }
   ],
   "source": [
    "# Plot nodes\n",
    "def plot_nodes(nodes, num_terminals):\n",
    "    x_coords = [point[0] for point in nodes]\n",
    "    y_coords = [point[1] for point in nodes]\n",
    "\n",
    "    colors = ['red'] * 1 + ['green'] * 1 + ['lime'] * (num_terminals - 1) + ['royalblue'] * (len(nodes) - (num_terminals + 1))\n",
    "    \n",
    "    plt.scatter(x_coords, y_coords, color=colors)\n",
    "    plt.title('Nodes')\n",
    "    plt.xlabel('X Coordinate')\n",
    "    plt.ylabel('Y Coordinate')\n",
    "    plt.grid(True)\n",
    "\n",
    "    # Create the legend\n",
    "    legend_labels = ['Dummy node', 'Original Terminal', 'Intermediate Terminals', 'Customers']\n",
    "    legend_handles = [plt.Line2D([0], [0], marker='o', color='w', markerfacecolor=label_color, markersize=8)\n",
    "                      for label_color in ['red', 'green', 'lime', 'royalblue']]\n",
    "    plt.legend(legend_handles, legend_labels)\n",
    "\n",
    "    plt.show()\n",
    "\n",
    "\n",
    "# Example \n",
    "num_terminals = 3\n",
    "num_costumers = 5\n",
    "nodes = generate_nodes_like_paper(num_costumers = num_costumers)\n",
    "print(nodes)\n",
    "plot_nodes(nodes = nodes, num_terminals = 3)"
   ]
  },
  {
   "cell_type": "code",
   "execution_count": 5,
   "metadata": {},
   "outputs": [
    {
     "name": "stdout",
     "output_type": "stream",
     "text": [
      "[ 0.    0.   17.69 44.69  7.07 12.53 14.21  7.28 13.34]\n",
      "[ 0.    0.   17.69 44.69  7.07 12.53 14.21  7.28 13.34]\n",
      "[17.69 17.69  0.   27.2  22.83 24.04 21.1  21.95 15.  ]\n",
      "[44.69 44.69 27.2   0.   48.84 50.54 46.62 49.09 40.31]\n",
      "[ 7.07  7.07 22.83 48.84  0.   17.69 20.59 12.04 20.4 ]\n",
      "[12.53 12.53 24.04 50.54 17.69  0.    5.39  5.66 10.63]\n",
      "[14.21 14.21 21.1  46.62 20.59  5.39  0.    9.22  6.32]\n",
      "[ 7.28  7.28 21.95 49.09 12.04  5.66  9.22  0.   11.7 ]\n",
      "[13.34 13.34 15.   40.31 20.4  10.63  6.32 11.7   0.  ]\n",
      "\n",
      "[ 0.   17.69  0.   27.2  22.83 24.04 21.1  21.95 15.  ]\n",
      "[17.69  0.   17.69 44.69  7.07 12.53 14.21  7.28 13.34]\n",
      "[ 0.   17.69  0.   27.2  22.83 24.04 21.1  21.95 15.  ]\n",
      "[27.2  44.69 27.2   0.   48.84 50.54 46.62 49.09 40.31]\n",
      "[22.83  7.07 22.83 48.84  0.   17.69 20.59 12.04 20.4 ]\n",
      "[24.04 12.53 24.04 50.54 17.69  0.    5.39  5.66 10.63]\n",
      "[21.1  14.21 21.1  46.62 20.59  5.39  0.    9.22  6.32]\n",
      "[21.95  7.28 21.95 49.09 12.04  5.66  9.22  0.   11.7 ]\n",
      "[15.   13.34 15.   40.31 20.4  10.63  6.32 11.7   0.  ]\n",
      "\n",
      "[ 0.   44.69 27.2   0.   48.84 50.54 46.62 49.09 40.31]\n",
      "[44.69  0.   17.69 44.69  7.07 12.53 14.21  7.28 13.34]\n",
      "[27.2  17.69  0.   27.2  22.83 24.04 21.1  21.95 15.  ]\n",
      "[ 0.   44.69 27.2   0.   48.84 50.54 46.62 49.09 40.31]\n",
      "[48.84  7.07 22.83 48.84  0.   17.69 20.59 12.04 20.4 ]\n",
      "[50.54 12.53 24.04 50.54 17.69  0.    5.39  5.66 10.63]\n",
      "[46.62 14.21 21.1  46.62 20.59  5.39  0.    9.22  6.32]\n",
      "[49.09  7.28 21.95 49.09 12.04  5.66  9.22  0.   11.7 ]\n",
      "[40.31 13.34 15.   40.31 20.4  10.63  6.32 11.7   0.  ]\n",
      "\n",
      "\n",
      "[ 0.    0.   17.69 44.69  7.07 12.53 14.21  7.28 13.34]\n",
      "[ 0.    0.   17.69 44.69  7.07 12.53 14.21  7.28 13.34]\n",
      "[17.69 17.69  0.   27.2  22.83 24.04 21.1  21.95 15.  ]\n",
      "[44.69 44.69 27.2   0.   48.84 50.54 46.62 49.09 40.31]\n",
      "[ 7.07  7.07 22.83 48.84  0.   17.69 20.59 12.04 20.4 ]\n",
      "[12.53 12.53 24.04 50.54 17.69  0.    5.39  5.66 10.63]\n",
      "[14.21 14.21 21.1  46.62 20.59  5.39  0.    9.22  6.32]\n",
      "[ 7.28  7.28 21.95 49.09 12.04  5.66  9.22  0.   11.7 ]\n",
      "[13.34 13.34 15.   40.31 20.4  10.63  6.32 11.7   0.  ]\n",
      "\n",
      "[ 0.   17.69  0.   27.2  22.83 24.04 21.1  21.95 15.  ]\n",
      "[17.69  0.   17.69 44.69  7.07 12.53 14.21  7.28 13.34]\n",
      "[ 0.   17.69  0.   27.2  22.83 24.04 21.1  21.95 15.  ]\n",
      "[27.2  44.69 27.2   0.   48.84 50.54 46.62 49.09 40.31]\n",
      "[22.83  7.07 22.83 48.84  0.   17.69 20.59 12.04 20.4 ]\n",
      "[24.04 12.53 24.04 50.54 17.69  0.    5.39  5.66 10.63]\n",
      "[21.1  14.21 21.1  46.62 20.59  5.39  0.    9.22  6.32]\n",
      "[21.95  7.28 21.95 49.09 12.04  5.66  9.22  0.   11.7 ]\n",
      "[15.   13.34 15.   40.31 20.4  10.63  6.32 11.7   0.  ]\n",
      "\n",
      "[ 0.   44.69 27.2   0.   48.84 50.54 46.62 49.09 40.31]\n",
      "[44.69  0.   17.69 44.69  7.07 12.53 14.21  7.28 13.34]\n",
      "[27.2  17.69  0.   27.2  22.83 24.04 21.1  21.95 15.  ]\n",
      "[ 0.   44.69 27.2   0.   48.84 50.54 46.62 49.09 40.31]\n",
      "[48.84  7.07 22.83 48.84  0.   17.69 20.59 12.04 20.4 ]\n",
      "[50.54 12.53 24.04 50.54 17.69  0.    5.39  5.66 10.63]\n",
      "[46.62 14.21 21.1  46.62 20.59  5.39  0.    9.22  6.32]\n",
      "[49.09  7.28 21.95 49.09 12.04  5.66  9.22  0.   11.7 ]\n",
      "[40.31 13.34 15.   40.31 20.4  10.63  6.32 11.7   0.  ]\n",
      "\n",
      "\n",
      "[ 0.    0.   17.69 44.69]\n"
     ]
    }
   ],
   "source": [
    "# Matrix of distances between each nodes\n",
    "def compute_distance_matrix(nodes, num_terminals):\n",
    "    num_nodes = len(nodes)\n",
    "    distance_matrix = [np.zeros((num_nodes, num_nodes)) for _ in range(num_terminals) for _ in range(num_terminals)]\n",
    "    for t in range(num_terminals):\n",
    "        for i in range(num_nodes):\n",
    "            for j in range(num_nodes):\n",
    "                x1, y1 = nodes[i]\n",
    "                x2, y2 = nodes[j]\n",
    "                if i==0: x1, y1 = nodes[t+1]\n",
    "                if j==0: x2, y2 = nodes[t+1]\n",
    "                distance = math.sqrt((x2 - x1) ** 2 + (y2 - y1) ** 2)\n",
    "                distance_matrix[t][i][j] = round(distance,2)\n",
    "    return distance_matrix\n",
    "\n",
    "# Build road cost matrix\n",
    "def compute_road_cost_matrix(distance_matrix, c1, c2, num_terminals):\n",
    "    road_cost_matrix = [np.zeros((len(distance_matrix[0]),len(distance_matrix[0]))) for _ in range(num_terminals)]\n",
    "    for t in range(num_terminals):\n",
    "        for i in range(len(distance_matrix[0])):\n",
    "            for j in range(len(distance_matrix[0])):\n",
    "                # Highway case\n",
    "                if (i == 1 and j != 0 and j < num_terminals + 1) or (j == 1 and i != 0 and i < num_terminals + 1):\n",
    "                    road_cost_matrix[t][i][j] = round(distance_matrix[t][i][j] * c2,2)\n",
    "                # Standard road case\n",
    "                else:\n",
    "                    road_cost_matrix[t][i][j] = round(distance_matrix[t][i][j] * c1,2)\n",
    "    return road_cost_matrix\n",
    "\n",
    "# Extract highway costs# There is also the cost original terminal - original terminal track\n",
    "def exctract_highway_costs(road_cost_matrix, num_terminals):\n",
    "    highway_cost = [road_cost_matrix[t][1][0 : num_terminals + 1] for t in range(num_terminals)]\n",
    "    return highway_cost\n",
    "\n",
    "\n",
    "# Example \n",
    "distance_matrix = compute_distance_matrix(nodes, num_terminals)\n",
    "for t in range(num_terminals):\n",
    "    for row in distance_matrix[t][:][:]:\n",
    "        print(row)\n",
    "    print()\n",
    "print()\n",
    "\n",
    "road_cost_matrix = compute_road_cost_matrix(distance_matrix, c1,c2, num_terminals)\n",
    "for t in range(num_terminals):\n",
    "    for row in road_cost_matrix[t][:][:]:\n",
    "        print(row)\n",
    "    print()\n",
    "print()\n",
    "\n",
    "highway_costs = exctract_highway_costs(road_cost_matrix, num_terminals)\n",
    "print(highway_costs[0])"
   ]
  },
  {
   "cell_type": "code",
   "execution_count": 6,
   "metadata": {},
   "outputs": [
    {
     "name": "stdout",
     "output_type": "stream",
     "text": [
      "24\n"
     ]
    }
   ],
   "source": [
    "# Generate trailer capacity Q\n",
    "def generate_trailer_capacity(min_value = 24, max_value = 24):\n",
    "    trailer_capacity = random.randint(min_value, max_value)\n",
    "    return trailer_capacity\n",
    "\n",
    "# Example \n",
    "trailer_capacity = generate_trailer_capacity()\n",
    "print(trailer_capacity)\n"
   ]
  },
  {
   "cell_type": "code",
   "execution_count": 7,
   "metadata": {},
   "outputs": [
    {
     "name": "stdout",
     "output_type": "stream",
     "text": [
      "13\n"
     ]
    }
   ],
   "source": [
    "# Generate number of experienced drivers\n",
    "def generate_number_experienced_drivers(min_value = 5, max_value = 15):\n",
    "    number_experienced_drivers = random.randint(min_value, max_value)\n",
    "    return number_experienced_drivers\n",
    "\n",
    "# Example \n",
    "number_experienced_drivers = generate_number_experienced_drivers()\n",
    "print(number_experienced_drivers)"
   ]
  },
  {
   "cell_type": "code",
   "execution_count": 8,
   "metadata": {},
   "outputs": [
    {
     "name": "stdout",
     "output_type": "stream",
     "text": [
      "[ 2. 10.  3. 14. 18. 16. 11.  0.]\n",
      "[ 0.  0.  0.  0. 24.  8.  9.  9.  8.]\n"
     ]
    }
   ],
   "source": [
    "# Generate costumer demands\n",
    "# It depends on capacity since costumer demand <= capacity\n",
    "def generate_costumer_demands(capacity_Q, num_costumers):\n",
    "    costumer_demands = np.zeros(num_costumers)\n",
    "    for i in range(num_costumers):\n",
    "        costumer_demands[i] = random.randint(0, capacity_Q)\n",
    "    return costumer_demands\n",
    "\n",
    "# generate the demands with the same distribution of the paper, distinguishing between LT orders \n",
    "# and LTL orders (with high demand pattern -> qj in [4,5,6], or low demand pattern -> qj in [7,8,9])\n",
    "def generate_costumer_demands_like_paper(num_costumers, LTL_orders, LTL_pattern, num_terminals = 3):\n",
    "    costumer_demands = np.zeros(num_costumers+num_terminals+1)\n",
    "    for i in range(num_terminals+1, num_costumers+num_terminals+1-LTL_orders):\n",
    "        costumer_demands[i] = 24\n",
    "    for i in range(num_costumers+num_terminals+1-LTL_orders, num_costumers+num_terminals+1):\n",
    "        if (LTL_pattern == 'L'): costumer_demands[i] = random.randint(4,6)\n",
    "        elif (LTL_pattern == 'H'): costumer_demands[i] = random.randint(7,9)\n",
    "        else: print('LTL_patter must be equal to H for high demand patter or L for low demand patter')\n",
    "    return costumer_demands\n",
    "\n",
    "# Example\n",
    "random_costumer_demands = generate_costumer_demands(capacity_Q=trailer_capacity, num_costumers=8)\n",
    "print(random_costumer_demands)\n",
    "paper_costumer_demands = generate_costumer_demands_like_paper(num_costumers=num_costumers, LTL_orders = 4, LTL_pattern = 'H', num_terminals = 3)\n",
    "print(paper_costumer_demands)"
   ]
  },
  {
   "cell_type": "code",
   "execution_count": 9,
   "metadata": {},
   "outputs": [
    {
     "name": "stdout",
     "output_type": "stream",
     "text": [
      "[[], [4], [5], [4, 5], [6], [4, 6], [5, 6], [4, 5, 6]]\n",
      "[[4], [5], [4, 5], [6], [4, 6], [5, 6], [4, 5, 6]]\n"
     ]
    }
   ],
   "source": [
    "# Powerset function\n",
    "def powerset(s):\n",
    "    power_set = [[]]\n",
    "    for element in s:\n",
    "        new_subsets = [subset + [element] for subset in power_set]\n",
    "        power_set.extend(new_subsets)\n",
    "    return power_set\n",
    "\n",
    "# Powerset function with one difference\n",
    "# It does not return elements as [] or element with a 0 inside\n",
    "def powerset_without_emptyset(s):\n",
    "    power_set = [[]]\n",
    "    for element in s:\n",
    "        new_subsets = [subset + [element] for subset in power_set if element != 0]\n",
    "        power_set.extend(new_subsets)\n",
    "    power_set = [x for x in power_set if x != []]\n",
    "    return power_set\n",
    "\n",
    "# Example usage\n",
    "my_set = [4, 5, 6]\n",
    "result = powerset(my_set)\n",
    "print(result)\n",
    "result = powerset_without_emptyset(my_set)\n",
    "print(result)\n"
   ]
  },
  {
   "cell_type": "code",
   "execution_count": 10,
   "metadata": {},
   "outputs": [],
   "source": [
    "# Given an array of data, it divides and return the different kinds of data \n",
    "def extract_data(filename):\n",
    "    LTL_orders = int(filename[7])\n",
    "    LTL_pattern = filename[9]\n",
    "    filename = \"./dataset/\" + filename\n",
    "    FILE = open(filename, 'r')\n",
    "    lines = FILE.read().strip().split(\"\\n\")\n",
    "    input_data = [list(map(int, re.findall(r'\\d+', line))) for line in lines]\n",
    "    num_costumers =             input_data[0][0]\n",
    "    num_terminals =             input_data[0][1]\n",
    "    Q =                         input_data[0][2]\n",
    "    c1 =                        input_data[0][3]/10\n",
    "    c2 =                        input_data[0][4]/10\n",
    "    num_experienced_drivers =   input_data[0][5]\n",
    "    costumers_data = [row[1:3] for row in input_data[1: num_costumers + 1]]\n",
    "    terminals_data = [row[1:3] for row in input_data[num_costumers + 1: num_costumers + num_terminals + 2]]\n",
    "    dummy_data = [[0, 0]]\n",
    "    nodes = dummy_data + terminals_data + costumers_data\n",
    "    #print(nodes)\n",
    "    q = [0,0,0,0] + [row[3] for row in input_data[1: num_costumers + 1]]\n",
    "    FILE.close()\n",
    "    return  num_costumers, num_terminals, Q, c1, c2, num_experienced_drivers, nodes, q, LTL_orders, LTL_pattern"
   ]
  },
  {
   "cell_type": "markdown",
   "metadata": {},
   "source": [
    "## Solving the problem"
   ]
  },
  {
   "cell_type": "code",
   "execution_count": 11,
   "metadata": {},
   "outputs": [
    {
     "name": "stdout",
     "output_type": "stream",
     "text": [
      "Set parameter Username\n",
      "Academic license - for non-commercial use only - expires 2024-06-25\n"
     ]
    }
   ],
   "source": [
    "# Model\n",
    "train_model = gb.Model()\n",
    "train_model.modelSense = gb.GRB.MINIMIZE"
   ]
  },
  {
   "cell_type": "code",
   "execution_count": 12,
   "metadata": {},
   "outputs": [
    {
     "name": "stdout",
     "output_type": "stream",
     "text": [
      "12 3 24 1.0 1.0 10 [[0, 0], [47, 4], [16, 27], [0, 38], [16, 37], [26, 20], [2, 24], [18, 15], [13, 47], [18, 37], [34, 8], [11, 16], [48, 46], [30, 25], [29, 28], [11, 46]] [0, 0, 0, 0, 24, 24, 24, 24, 24, 24, 24, 24, 9, 8, 7, 8]\n"
     ]
    }
   ],
   "source": [
    "# for loading the configuration of the original paper dataset:\n",
    "filename = \"TL8_LTL4_H_D.txt\"\n",
    "num_costumers, num_terminals, trailer_capacity, c1 , c2 , number_experienced_drivers, nodes, costumer_demands, LTL_orders, LTL_pattern = extract_data(filename)\n",
    "number_of_trailers = 53 # following the paper\n",
    "\n",
    "print(num_costumers, num_terminals, trailer_capacity, c1 , c2 , number_experienced_drivers, nodes, costumer_demands)"
   ]
  },
  {
   "cell_type": "code",
   "execution_count": 13,
   "metadata": {},
   "outputs": [],
   "source": [
    "# generate the configuration (randomly, but with the same distributions of the paper)\n",
    "\n",
    "#number_of_trailers = 53 # following the paper\n",
    "#c1, c2 = generate_road_costs()\n",
    "#num_terminals = 3\n",
    "#num_costumers = 12\n",
    "#LTL_orders = 6\n",
    "#LTL_pattern = 'L'\n",
    "#nodes = generate_nodes_like_paper(num_costumers)\n",
    "#trailer_capacity = generate_trailer_capacity(min_value=24, max_value=24)\n",
    "#number_experienced_drivers = generate_number_experienced_drivers(min_value=10, max_value=15)\n",
    "#costumer_demands =  generate_costumer_demands_like_paper(num_costumers, LTL_orders=LTL_orders, \n",
    "#                    LTL_pattern=LTL_pattern, num_terminals=num_terminals)\n"
   ]
  },
  {
   "cell_type": "code",
   "execution_count": 14,
   "metadata": {},
   "outputs": [
    {
     "data": {
      "image/png": "[encoded data removed]",
      "text/plain": [
       "<Figure size 640x480 with 1 Axes>"
      ]
     },
     "metadata": {},
     "output_type": "display_data"
    }
   ],
   "source": [
    "plot_nodes(nodes=nodes, num_terminals=num_terminals)"
   ]
  },
  {
   "cell_type": "code",
   "execution_count": 15,
   "metadata": {},
   "outputs": [
    {
     "name": "stdout",
     "output_type": "stream",
     "text": [
      "10 24 [0, 0, 0, 0, 24, 24, 24, 24, 24, 24, 24, 24, 9, 8, 7, 8]\n"
     ]
    }
   ],
   "source": [
    "# compute the matrices of distances\n",
    "distance_matrix = compute_distance_matrix(nodes, num_terminals)\n",
    "road_cost_matrix = compute_road_cost_matrix(distance_matrix, c1,c2, num_terminals)\n",
    "highway_costs = exctract_highway_costs(road_cost_matrix, num_terminals)\n",
    "\n",
    "# Introduce a simple (paper coherent notation)\n",
    "# extract from the road-cost matrix the elements of interest, according to the indices of the sets defined below:\n",
    "c = road_cost_matrix\n",
    "c_bar = highway_costs\n",
    "r = number_experienced_drivers\n",
    "Q = trailer_capacity\n",
    "q = costumer_demands\n",
    "\n",
    "print(r,Q,q)"
   ]
  },
  {
   "cell_type": "code",
   "execution_count": 16,
   "metadata": {},
   "outputs": [],
   "source": [
    "# Introduced variables\n",
    " \n",
    "J = range(num_terminals+1,num_costumers+num_terminals+1)\n",
    "# the set V starts from 0 because it contains the dummy node 0\n",
    "V = [0]+[j for j in J]\n",
    "T = range(1, num_terminals+1)\n",
    "K = range(1, number_of_trailers+1)\n",
    "\n",
    "#print(list(J))\n",
    "#print(list(V))\n",
    "#print(list(T))\n",
    "#print(list(T[1:]))\n",
    "#print(list(K))"
   ]
  },
  {
   "cell_type": "code",
   "execution_count": 17,
   "metadata": {},
   "outputs": [],
   "source": [
    "# Add the decision variables to the model:\n",
    "\n",
    "x = train_model.addVars(\n",
    "    [(i, j, t, k) for t in T for k in K for i in V for j in J if(i < j)],\n",
    "    vtype = gb.GRB.INTEGER,\n",
    "    # specify that values are in {0,1,2} \n",
    "    lb = 0,\n",
    "    ub = 2\n",
    ")\n",
    "\n",
    "w = train_model.addVars(\n",
    "    [t for t in T[1:]],\n",
    "    vtype=gb.GRB.INTEGER,\n",
    "    lb = 0,\n",
    "    ub = number_experienced_drivers\n",
    ")\n",
    "\n",
    "y = train_model.addVars(\n",
    "    [(t,k) for t in T for k in K], \n",
    "    vtype = gb.GRB.BINARY\n",
    ")\n",
    "\n",
    "z = train_model.addVars(\n",
    "    [(t,k,j) for t in T for k in K for j in J], \n",
    "    vtype = gb.GRB.BINARY\n",
    ")"
   ]
  },
  {
   "cell_type": "code",
   "execution_count": 18,
   "metadata": {},
   "outputs": [],
   "source": [
    "# Set the objective function:\n",
    "train_model.setObjective(\n",
    "    gb.quicksum(c[t-1][i, j] * x[i, j, t, k] for k in K for t in T for i in V for j in J if(i < j)) +\n",
    "    gb.quicksum(c_bar[0][t] * w[t] for t in T[1:])\n",
    ")"
   ]
  },
  {
   "cell_type": "code",
   "execution_count": 19,
   "metadata": {},
   "outputs": [],
   "source": [
    "# Add constraints\n",
    "\n",
    "# Constraint 1: \\sum_{t \\in T \\setminus \\{1\\}} w_t <= r\n",
    "train_model.addConstr(\n",
    "    gb.quicksum(w[t] for t in T[1:]) <= r\n",
    ")\n",
    "\n",
    "# Constraint 2: \\sum_{k \\in K} y_{tk} = 2 w_t \\hspace{1em} \\forall t \\in T \\setminus \\{1\\}\n",
    "for t in T[1:]:\n",
    "    train_model.addConstr(\n",
    "        gb.quicksum(y[t, k] for k in K) == 2 * w[t] \n",
    "    )\n",
    "\n",
    "# Constraint 3: \\sum_{t \\in T} y_{tk} <= 1 \\hspace{1em} \\forall k\\in K\n",
    "for k in K:\n",
    "    train_model.addConstr(\n",
    "        gb.quicksum(y[t, k] for t in T) <= 1\n",
    "    )\n",
    "\n",
    "# Constraint 4: \\sum_{j \\in J} q_j z_{tkj} <= Q y_{tk} \\hspace{1em} \\forall k \\in K \\hspace{1em} \\forall t \\in T\n",
    "for k in K:\n",
    "    for t in T:\n",
    "        train_model.addConstr(\n",
    "            gb.quicksum(q[j] * z[t, k, j] for j in J) <= Q * y[t, k]\n",
    "        )\n",
    "\n",
    "# Constraint 5: \\sum_{t \\in T} \\sum_{k \\in K} z_{tkj} = 1 \\hspace{1em} \\forall j \\in J\n",
    "for j in J:\n",
    "    train_model.addConstr(\n",
    "        gb.quicksum(z[t, k, j] for t in T for k in K) == 1\n",
    "    )\n",
    "\n",
    "# Constraint 6: \\sum_{i \\in V \\text{ and } i<j} x_{ijtk} + \\sum_{i \\in V \\text{ and } i>j } x_{jitk} = 2 z_{tkj} \n",
    "#               \\hspace{1em}\\forall j  \\in J \\hspace{1em} \\forall t \\in T \\hspace{1em} \\forall k \\in K\n",
    "for j in J:\n",
    "    for t in T:\n",
    "        for k in K:\n",
    "            train_model.addConstr(\n",
    "                gb.quicksum(x[i, j, t, k] for i in V if(i < j)) +\n",
    "                gb.quicksum(x[j, i, t, k] for i in V if(i > j)) == 2 * z[t, k, j]\n",
    "            )\n",
    "\n",
    "# Constraint 7: \\sum_{j \\in J} x_{0jtk} = 2y_{tk} \\hspace{1em} \\forall k \\in K \\hspace{1em} \\forall t \\in T\n",
    "for k in K:\n",
    "    for t in T:\n",
    "        train_model.addConstr(\n",
    "            gb.quicksum(x[0, j, t, k] for j in J) == 2 * y[t, k]\n",
    "        )\n",
    "\n",
    "# Constraint 8:     \\sum_{i \\in S} \\sum_{j \\in S \\text{ and } i < j} x_{ijkt} \\leq |S| - 1 \n",
    "#                   \\hspace{1em} \\forall S \\subseteq J \\hspace{1em} \\forall k \\in K \\hspace{1em} \\forall t \\in  T\n",
    "for S in powerset_without_emptyset(J):\n",
    "    if (sum(q[j] for j in S)<Q):\n",
    "        for t in T:\n",
    "            for k in K:\n",
    "                train_model.addConstr(\n",
    "                    gb.quicksum(x[i, j, t, k] for i in S for j in S if(i < j)) <= len(S) - 1\n",
    "                )"
   ]
  },
  {
   "cell_type": "code",
   "execution_count": 20,
   "metadata": {},
   "outputs": [
    {
     "name": "stdout",
     "output_type": "stream",
     "text": [
      "Gurobi Optimizer version 10.0.2 build v10.0.2rc0 (linux64)\n",
      "\n",
      "CPU model: 12th Gen Intel(R) Core(TM) i7-1270P, instruction set [SSE2|AVX|AVX2]\n",
      "Thread count: 16 physical cores, 16 logical processors, using up to 16 threads\n",
      "\n",
      "Optimize a model with 4043 rows, 14471 columns and 32546 nonzeros\n",
      "Model fingerprint: 0xc7e30e65\n",
      "Variable types: 0 continuous, 14471 integer (2067 binary)\n",
      "Coefficient statistics:\n",
      "  Matrix range     [1e+00, 2e+01]\n",
      "  Objective range  [2e+00, 6e+01]\n",
      "  Bounds range     [1e+00, 1e+01]\n",
      "  RHS range        [1e+00, 1e+01]\n",
      "Presolve removed 2862 rows and 10812 columns\n",
      "Presolve time: 0.19s\n",
      "Presolved: 1181 rows, 3659 columns, 9968 nonzeros\n",
      "Variable types: 0 continuous, 3659 integer (3021 binary)\n",
      "\n",
      "Root relaxation: objective 4.690117e+02, 2084 iterations, 0.02 seconds (0.06 work units)\n",
      "\n",
      "    Nodes    |    Current Node    |     Objective Bounds      |     Work\n",
      " Expl Unexpl |  Obj  Depth IntInf | Incumbent    BestBd   Gap | It/Node Time\n",
      "\n",
      "     0     0  469.01167    0   18          -  469.01167      -     -    0s\n",
      "H    0     0                     625.1700000  469.01167  25.0%     -    0s\n",
      "H    0     0                     610.4000000  469.01167  23.2%     -    0s\n",
      "H    0     0                     585.6500000  469.01167  19.9%     -    0s\n",
      "H    0     0                     575.4800000  469.01167  18.5%     -    0s\n",
      "     0     0  491.69975    0   37  575.48000  491.69975  14.6%     -    0s\n",
      "H    0     0                     501.6600000  491.69975  1.99%     -    0s\n",
      "     0     0  492.08382    0   41  501.66000  492.08382  1.91%     -    0s\n",
      "H    0     0                     500.1500000  492.08382  1.61%     -    0s\n",
      "     0     0  492.08382    0   12  500.15000  492.08382  1.61%     -    0s\n",
      "     0     0  493.49031    0   15  500.15000  493.49031  1.33%     -    0s\n",
      "     0     0  493.64000    0    8  500.15000  493.64000  1.30%     -    0s\n",
      "     0     0  493.64000    0   13  500.15000  493.64000  1.30%     -    0s\n",
      "\n",
      "Cutting planes:\n",
      "  Gomory: 4\n",
      "  Cover: 6\n",
      "  Implied bound: 3\n",
      "  Clique: 6\n",
      "  Flow cover: 6\n",
      "  Relax-and-lift: 2\n",
      "\n",
      "Explored 1 nodes (4542 simplex iterations) in 0.51 seconds (0.59 work units)\n",
      "Thread count was 16 (of 16 available processors)\n",
      "\n",
      "Solution count 6: 500.15 501.66 575.48 ... 625.17\n",
      "\n",
      "Optimal solution found (tolerance 1.00e-04)\n",
      "Best objective 5.001500000000e+02, best bound 5.001500000000e+02, gap 0.0000%\n",
      "\n",
      "x[i,j,t,k], (i,j), t, k\n",
      "2.0 (0, 15) 3 1\n",
      "2.0 (0, 7) 2 2\n",
      "1.0 (0, 12) 1 3\n",
      "1.0 (0, 13) 1 3\n",
      "1.0 (12, 14) 1 3\n",
      "1.0 (13, 14) 1 3\n",
      "2.0 (0, 10) 1 4\n",
      "2.0 (0, 6) 2 18\n",
      "2.0 (0, 4) 2 32\n",
      "2.0 (0, 5) 2 37\n",
      "2.0 (0, 11) 2 44\n",
      "2.0 (0, 8) 3 49\n",
      "2.0 (0, 9) 2 53\n",
      "\n",
      "q[j]\n",
      "24\n",
      "24\n",
      "24\n",
      "24\n",
      "24\n",
      "24\n",
      "24\n",
      "24\n",
      "9\n",
      "8\n",
      "7\n",
      "8\n",
      "\n",
      "w[t]\n",
      "3.0\n",
      "1.0\n",
      "\n",
      "if (y[t,k] != 0) -> (t,k)\n",
      "(3, 1)\n",
      "(2, 2)\n",
      "(1, 3)\n",
      "(1, 4)\n",
      "(2, 18)\n",
      "(2, 32)\n",
      "(2, 37)\n",
      "(2, 44)\n",
      "(3, 49)\n",
      "(2, 53)\n",
      "\n",
      "if (z[t,k,j] != 0) -> (t,k,j)\n",
      "3 1 15\n",
      "2 2 7\n",
      "1 3 12\n",
      "1 3 13\n",
      "1 3 14\n",
      "1 4 10\n",
      "2 18 6\n",
      "2 32 4\n",
      "2 37 5\n",
      "2 44 11\n",
      "3 49 8\n",
      "2 53 9\n"
     ]
    }
   ],
   "source": [
    "# Find the optimal solution:\n",
    "\n",
    "train_model.optimize()\n",
    "\n",
    "print()\n",
    "print(\"x[i,j,t,k], (i,j), t, k\")\n",
    "for k in K:\n",
    "    for t in T:\n",
    "        for j in J:\n",
    "            for i in V:\n",
    "                if (i < j):\n",
    "                    if(x[i,j,t,k].x != 0): print(x[i,j,t,k].x, (i,j), t, k)\n",
    "print()\n",
    "\n",
    "print(\"q[j]\")\n",
    "for j in J:\n",
    "    print(q[j])\n",
    "print()\n",
    "\n",
    "print(\"w[t]\")\n",
    "for t in T[1:]:\n",
    "    print(w[t].x)\n",
    "print()\n",
    "\n",
    "print(\"if (y[t,k] != 0) -> (t,k)\")\n",
    "for k in K:\n",
    "    for t in T:\n",
    "        if (y[t,k].x != 0): print((t,k))\n",
    "print()\n",
    "\n",
    "print(\"if (z[t,k,j] != 0) -> (t,k,j)\")\n",
    "for k in K:\n",
    "    for t in T:\n",
    "        for j in J:\n",
    "            if (z[t,k,j].x != 0): print(t,k,j)"
   ]
  },
  {
   "cell_type": "code",
   "execution_count": 21,
   "metadata": {},
   "outputs": [
    {
     "data": {
      "image/png": "[encoded data removed]",
      "text/plain": [
       "<Figure size 800x800 with 1 Axes>"
      ]
     },
     "metadata": {},
     "output_type": "display_data"
    }
   ],
   "source": [
    "# Plot optimal solution\n",
    "def plot_solution(nodes, x, w, q, num_terminals = 3):\n",
    "    x_coords = [point[0] for point in nodes]\n",
    "    y_coords = [point[1] for point in nodes]\n",
    "\n",
    "    # set the colors for each node:\n",
    "    # red: dummy node\n",
    "    # green: original terminal; lime: secondary terminals\n",
    "    # blue: costumers\n",
    "    colors = ['red'] * 1 + ['green'] * 1 + ['lime'] * (num_terminals - 1) + ['royalblue'] * (len(nodes) - (num_terminals + 1))\n",
    "    \n",
    "    plt.figure(figsize=(8,8))\n",
    "    plt.scatter(x_coords, y_coords, color=colors)\n",
    "    plt.title('Nodes')\n",
    "    plt.xlabel('X Coordinate')\n",
    "    plt.ylabel('Y Coordinate')\n",
    "    plt.grid(True)\n",
    "\n",
    "    # draw the routes of the road trains (between original terminal and secondary terminals), \n",
    "    # if they exist (green dashed lines)\n",
    "    for t in T[1:]:\n",
    "        if (w[t].x != 0): plt.plot((x_coords[1],x_coords[t]), (y_coords[1],y_coords[t]), 'g--')\n",
    "\n",
    "    # draw the regular trucks routes (between terminals and customers), distinguishing between LT orders \n",
    "    # and LTL orders (with high or low pattern) (blue/light blue continuous lines)\n",
    "    for k in K:\n",
    "        for t in T:\n",
    "            for j in J:\n",
    "                for i in V:\n",
    "                    if (i < j):\n",
    "                        i_, j_ = i, j\n",
    "                        if i==0: i_ = t\n",
    "                        if j==0: j_ = t\n",
    "                        # blue color for LT orders\n",
    "                        if(x[i,j,t,k].x == 2): plt.plot((x_coords[i_],x_coords[j_]), (y_coords[i_],y_coords[j_]), 'b-')\n",
    "                        # light blue color for LTL orders\n",
    "                        if(x[i,j,t,k].x == 1): plt.plot((x_coords[i_],x_coords[j_]), (y_coords[i_],y_coords[j_]), 'c-')\n",
    "\n",
    "    # Create the legend\n",
    "    #legend_labels = ['Dummy node', 'Original Terminal', 'Intermediate Terminals', 'Customers']\n",
    "    #legend_handles = [plt.Line2D([0], [0], marker='o', color='w', markerfacecolor=label_color, markersize=8)\n",
    "    #                  for label_color in ['red', 'green', 'lime', 'royalblue']]\n",
    "    legend_labels =     ['road-train routes', 'LT orders', 'LTL orders']\n",
    "    legend_handles =    [plt.Line2D([0], [0], marker='o', color='w', markerfacecolor=label_color, markersize=8)\n",
    "                        for label_color in ['g', 'b', 'c']]\n",
    "    plt.legend(legend_handles, legend_labels, loc = 'best')\n",
    "    filename = 'GI_LT{TL}_LTL{LTL}_{pattern}_T{T}'.format(TL=num_costumers-LTL_orders, LTL=LTL_orders, pattern=LTL_pattern, T=num_terminals)\n",
    "    plt.savefig(filename+'.png')\n",
    "    plt.show()\n",
    "\n",
    "# save the instance/configuration of the problem (eventually to reproduce the results)\n",
    "def save_instance(nodes, q, r, Q, c1, c2, num_costumers, LTL_orders, LTL_pattern, num_terminals = 3):\n",
    "    filename = 'GI_LT{TL}_LTL{LTL}_{pattern}_T{T}'.format(TL=num_costumers-LTL_orders, LTL=LTL_orders, pattern=LTL_pattern, T=num_terminals)\n",
    "    FILE = open(filename, 'w')\n",
    "    FILE.write( '{r}  {Q}  {c1}  {c2}  {num_costumers}  {TL}  {LTL}  {pattern}  {T}'.format(\n",
    "                r=r, Q=Q, c1=c1, c2=c2, num_costumers=num_costumers, TL=num_costumers-LTL_orders, \n",
    "                LTL=LTL_orders, pattern=LTL_pattern, T=num_terminals))\n",
    "    FILE.write(\"\\n\\n\")\n",
    "    for point in nodes:\n",
    "        FILE.write('{x}  {y}\\n'.format(x=point[0], y=point[1]))\n",
    "    FILE.write(\"\\n\")\n",
    "    for j in range(num_terminals+1, len(nodes)):\n",
    "        FILE.write('{q}  '.format(q=q[j]))\n",
    "    FILE.close()\n",
    "\n",
    "\n",
    "save_instance(nodes, q, r, Q, c1, c2, num_costumers, LTL_orders, LTL_pattern, num_terminals)\n",
    "plot_solution(nodes = nodes, x = x, w = w, q = q)"
   ]
  }
 ],
 "metadata": {
  "kernelspec": {
   "display_name": "base",
   "language": "python",
   "name": "python3"
  },
  "language_info": {
   "codemirror_mode": {
    "name": "ipython",
    "version": 3
   },
   "file_extension": ".py",
   "mimetype": "text/x-python",
   "name": "python",
   "nbconvert_exporter": "python",
   "pygments_lexer": "ipython3",
   "version": "3.9.13"
  },
  "orig_nbformat": 4
 },
 "nbformat": 4,
 "nbformat_minor": 2
}
